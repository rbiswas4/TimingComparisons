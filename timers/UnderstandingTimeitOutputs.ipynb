{
 "cells": [
  {
   "cell_type": "markdown",
   "metadata": {},
   "source": [
    "# Understanding outputs of Timeit  in python"
   ]
  },
  {
   "cell_type": "markdown",
   "metadata": {},
   "source": [
    "The objective of this notebook is to set up some examples to understand the output of timeit and work towards having useful functions to be able to quickly study the performance of python functions, particularly when these functions have sequences as inputs, and as a function of sequence size.\n",
    "\n",
    "A lot of this notebook is based on trying to understand material from \n",
    "- https://docs.python.org/2/library/timeit.html\n",
    "- http://www.diveintopython.net/performance_tuning/timeit.html\n",
    "- https://pymotw.com/2/timeit/\n",
    "- http://electronut.in/plotting-algorithmic-time-complexity-of-a-function-using-python/"
   ]
  },
  {
   "cell_type": "code",
   "execution_count": 4,
   "metadata": {
    "collapsed": true
   },
   "outputs": [],
   "source": [
    "from __future__ import absolute_import, print_function, division"
   ]
  },
  {
   "cell_type": "code",
   "execution_count": 1,
   "metadata": {
    "collapsed": true
   },
   "outputs": [],
   "source": [
    "import timeit\n",
    "import time"
   ]
  },
  {
   "cell_type": "code",
   "execution_count": 2,
   "metadata": {
    "collapsed": true
   },
   "outputs": [],
   "source": [
    "import numpy as np\n",
    "import pandas"
   ]
  },
  {
   "cell_type": "code",
   "execution_count": 3,
   "metadata": {
    "collapsed": true
   },
   "outputs": [],
   "source": [
    "import functools"
   ]
  },
  {
   "cell_type": "markdown",
   "metadata": {},
   "source": [
    "## Understanding the outputs"
   ]
  },
  {
   "cell_type": "markdown",
   "metadata": {},
   "source": [
    "As explained in the python docs(https://docs.python.org/2/library/timeit.html), the timeit object works on two strings:\n",
    "\n",
    "- ** a statement string ** : This should be the code to run the computation that is required to be timed. In our example we will use a statement function which prints out a statement so that we know this is being executed. It also spends some time sleeping using the `time.sleep()` function with a default sleepTime of 1 sec.\n",
    "- ** a setup string ** : This should contain the code that might be necessary to setup the computation. In this example, we will use a function stp() which prints out a statement indicating the setup is being run, and sleeps for a default sleepTime of 3 sec. "
   ]
  },
  {
   "cell_type": "code",
   "execution_count": 5,
   "metadata": {
    "collapsed": false
   },
   "outputs": [],
   "source": [
    "def statement(sleepTime=1, stmt=None):\n",
    "    \"\"\"\n",
    "    return a string that includes code to print out stmt and sleep for sleepTime.\n",
    "    \n",
    "    Parameters\n",
    "    ----------\n",
    "    sleepTime :\n",
    "    stmt :\n",
    "    Returns \n",
    "    \n",
    "    -------\n",
    "    \"\"\"\n",
    "    if stmt is None:\n",
    "        stmt = 'print(\"running stmt\"); time.sleep({})'.format(sleepTime)\n",
    "    return stmt"
   ]
  },
  {
   "cell_type": "code",
   "execution_count": 6,
   "metadata": {
    "collapsed": false
   },
   "outputs": [
    {
     "data": {
      "text/plain": [
       "'print(\"running stmt\"); time.sleep(1)'"
      ]
     },
     "execution_count": 6,
     "metadata": {},
     "output_type": "execute_result"
    }
   ],
   "source": [
    "statement()"
   ]
  },
  {
   "cell_type": "code",
   "execution_count": 7,
   "metadata": {
    "collapsed": true
   },
   "outputs": [],
   "source": [
    "def stp(sleepTime=3, setup=None):\n",
    "    if setup is None:\n",
    "        setup = 'print(\"running setup\"); time.sleep({})'.format(sleepTime)\n",
    "        return setup"
   ]
  },
  {
   "cell_type": "code",
   "execution_count": 8,
   "metadata": {
    "collapsed": false
   },
   "outputs": [
    {
     "data": {
      "text/plain": [
       "'print(\"running setup\"); time.sleep(3)'"
      ]
     },
     "execution_count": 8,
     "metadata": {},
     "output_type": "execute_result"
    }
   ],
   "source": [
    "stp()"
   ]
  },
  {
   "cell_type": "markdown",
   "metadata": {},
   "source": [
    "#### Very Basic Usage"
   ]
  },
  {
   "cell_type": "code",
   "execution_count": 11,
   "metadata": {
    "collapsed": false
   },
   "outputs": [
    {
     "name": "stdout",
     "output_type": "stream",
     "text": [
      "running setup\n",
      "running stmt\n",
      "running stmt\n",
      "wall time elapsed from time.time() 5.01104879379\n",
      "timeit output:  2.0092151165\n"
     ]
    }
   ],
   "source": [
    "tstart = time.time()\n",
    "tt = timeit.Timer(stmt=statement(), setup=stp()) \n",
    "l = tt.timeit(number=2)\n",
    "tend = time.time()\n",
    "print('wall time elapsed from time.time()', tend - tstart)\n",
    "print('timeit output: ', l)"
   ]
  },
  {
   "cell_type": "markdown",
   "metadata": {},
   "source": [
    "So, this is what happened:\n",
    "- the line instantiating the Timer object read in the statement and setup strings.\n",
    "- we ran it with number=2. This ran the setup statement once (3 second sleep) and the statement (twice) 2 X 1 sec sleep for a total wall time of 5 seconds as indicated by the wall time print statement.\n",
    "- The timeit output is a single number of time 2 seconds. This clearly does not include the time to run setup, and is obtained by running the stmt number times. This is a way of timing only the statement, and running it multiple times to get some kind of averaging effect."
   ]
  },
  {
   "cell_type": "code",
   "execution_count": 20,
   "metadata": {
    "collapsed": false
   },
   "outputs": [
    {
     "name": "stdout",
     "output_type": "stream",
     "text": [
      "running setup\n",
      "running stmt\n",
      "running stmt\n",
      "wall time elapsed from time.time() 5.0052011013\n",
      "timeit output:  2.00321412086\n"
     ]
    }
   ],
   "source": [
    "tstart = time.time()\n",
    "l = timeit.timeit(stmt=statement(), setup=stp(), timer=timeit.default_timer, number=2)\n",
    "tend = time.time()\n",
    "print('wall time elapsed from time.time()', tend - tstart)\n",
    "print('timeit output: ', l)"
   ]
  },
  {
   "cell_type": "markdown",
   "metadata": {},
   "source": [
    "### Warning: python gives the number argument a default of 1000000, so we should make sure we specify it to be small, or the time taken could be very large. "
   ]
  },
  {
   "cell_type": "markdown",
   "metadata": {},
   "source": [
    "##  Using repeats"
   ]
  },
  {
   "cell_type": "code",
   "execution_count": 13,
   "metadata": {
    "collapsed": false
   },
   "outputs": [
    {
     "name": "stdout",
     "output_type": "stream",
     "text": [
      "running setup\n",
      "running stmt\n",
      "running stmt\n",
      "running setup\n",
      "running stmt\n",
      "running stmt\n",
      "running setup\n",
      "running stmt\n",
      "running stmt\n",
      "15.0403218269\n",
      "[ 2.00846004  2.01045108  2.00494385]\n"
     ]
    }
   ],
   "source": [
    "tstart = time.time()\n",
    "x = np.array(tt.repeat(repeat=3, number=2) )\n",
    "tend = time.time()\n",
    "print(tend - tstart)\n",
    "print(x)"
   ]
  },
  {
   "cell_type": "markdown",
   "metadata": {},
   "source": [
    "So, unlike number, the repeat argument is a complete repeat of the run, running both setup and the statement. The return is in a list. \n",
    "\n",
    "For timing a deterministic piece of computation performed by the statement code, one would expect the minimum value of the time to be the true value (all of the extra time coming from different levels of background processes running. So, ideally, I would like to be able to  "
   ]
  },
  {
   "cell_type": "code",
   "execution_count": 24,
   "metadata": {
    "collapsed": false
   },
   "outputs": [],
   "source": [
    "def timemyfunc(func, args=None, setup='pass', number=3, repeat=3):\n",
    "    if args is None:\n",
    "        stmt = 'func()'\n",
    "    else:\n",
    "        stmt = 'func(*args)'\n",
    "    timeit.Timer(stmt=stmt, setup=setup)\n",
    "    res = np.asarray(timeit.repeat(number=number, repeat=repeat))\n",
    "    return res/number\n",
    "    \n",
    "    "
   ]
  },
  {
   "cell_type": "code",
   "execution_count": 53,
   "metadata": {
    "collapsed": true
   },
   "outputs": [],
   "source": [
    "def square(num, val):\n",
    "    x = np.arange(num)\n",
    "    print(val)\n",
    "    return x * x"
   ]
  },
  {
   "cell_type": "code",
   "execution_count": 51,
   "metadata": {
    "collapsed": false
   },
   "outputs": [
    {
     "data": {
      "text/plain": [
       "array([  2.41041183e-08,   2.21014023e-08,   2.20060349e-08])"
      ]
     },
     "execution_count": 51,
     "metadata": {},
     "output_type": "execute_result"
    }
   ],
   "source": [
    "timemyfunc(square, args=[5e10000000000], setup='import numpy as np', number=10000)"
   ]
  },
  {
   "cell_type": "markdown",
   "metadata": {},
   "source": [
    "## Using functools to time variation with a single variable"
   ]
  },
  {
   "cell_type": "code",
   "execution_count": 52,
   "metadata": {
    "collapsed": true
   },
   "outputs": [],
   "source": [
    "import functools"
   ]
  },
  {
   "cell_type": "code",
   "execution_count": 56,
   "metadata": {
    "collapsed": false
   },
   "outputs": [
    {
     "name": "stdout",
     "output_type": "stream",
     "text": [
      "time\n"
     ]
    },
    {
     "data": {
      "text/plain": [
       "array([0, 1])"
      ]
     },
     "execution_count": 56,
     "metadata": {},
     "output_type": "execute_result"
    }
   ],
   "source": [
    "functools.partial(square, val='time')(2)"
   ]
  },
  {
   "cell_type": "code",
   "execution_count": 57,
   "metadata": {
    "collapsed": false
   },
   "outputs": [
    {
     "name": "stdout",
     "output_type": "stream",
     "text": [
      "statement\n"
     ]
    },
    {
     "data": {
      "text/plain": [
       "array([ 0,  1,  4,  9, 16])"
      ]
     },
     "execution_count": 57,
     "metadata": {},
     "output_type": "execute_result"
    }
   ],
   "source": [
    "functools.partial(square, 5)('statement')"
   ]
  },
  {
   "cell_type": "code",
   "execution_count": 58,
   "metadata": {
    "collapsed": false
   },
   "outputs": [
    {
     "data": {
      "text/plain": [
       "<functools.partial at 0x10fc7aa48>"
      ]
     },
     "execution_count": 58,
     "metadata": {},
     "output_type": "execute_result"
    }
   ],
   "source": [
    "functools.partial(square, num=5)"
   ]
  },
  {
   "cell_type": "markdown",
   "metadata": {},
   "source": [
    "### Garbage Collection"
   ]
  },
  {
   "cell_type": "code",
   "execution_count": null,
   "metadata": {
    "collapsed": true
   },
   "outputs": [],
   "source": []
  }
 ],
 "metadata": {
  "kernelspec": {
   "display_name": "Python 2",
   "language": "python",
   "name": "python2"
  },
  "language_info": {
   "codemirror_mode": {
    "name": "ipython",
    "version": 2
   },
   "file_extension": ".py",
   "mimetype": "text/x-python",
   "name": "python",
   "nbconvert_exporter": "python",
   "pygments_lexer": "ipython2",
   "version": "2.7.11"
  }
 },
 "nbformat": 4,
 "nbformat_minor": 0
}
